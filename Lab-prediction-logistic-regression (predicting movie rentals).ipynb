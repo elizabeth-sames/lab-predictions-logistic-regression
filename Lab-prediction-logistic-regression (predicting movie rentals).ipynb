{
 "cells": [
  {
   "cell_type": "markdown",
   "id": "f2ef29fc",
   "metadata": {},
   "source": [
    "In order to optimize our inventory, we would like to know which films will be rented next month and we are asked to create a model to predict it."
   ]
  },
  {
   "cell_type": "code",
   "execution_count": 1,
   "id": "0e4d0481",
   "metadata": {},
   "outputs": [
    {
     "name": "stdout",
     "output_type": "stream",
     "text": [
      "········\n"
     ]
    }
   ],
   "source": [
    "import pymysql\n",
    "from sqlalchemy import create_engine\n",
    "import pandas as pd\n",
    "import getpass  # To get the password without showing the input\n",
    "password = getpass.getpass()"
   ]
  },
  {
   "cell_type": "code",
   "execution_count": 2,
   "id": "3a7de005",
   "metadata": {},
   "outputs": [],
   "source": [
    "import seaborn as sns\n",
    "import matplotlib.pyplot as plt\n",
    "import numpy as np\n",
    "from sklearn.preprocessing import OneHotEncoder\n",
    "from sklearn.preprocessing import MinMaxScaler\n",
    "import sklearn.metrics as metrics\n",
    "from sklearn.model_selection import train_test_split\n",
    "from sklearn.linear_model import LogisticRegression\n",
    "import pickle"
   ]
  },
  {
   "cell_type": "code",
   "execution_count": 3,
   "id": "2511e48b",
   "metadata": {},
   "outputs": [],
   "source": [
    "connection_string = 'mysql+pymysql://root:' + password + '@localhost/sakila'\n",
    "engine = create_engine(connection_string)"
   ]
  },
  {
   "cell_type": "markdown",
   "id": "45ce0581",
   "metadata": {},
   "source": [
    "1.Create a query or queries to extract the information you think may be relevant for building the prediction model. It should include some film features and some rental features. Use the data from 2005."
   ]
  },
  {
   "cell_type": "code",
   "execution_count": 6,
   "id": "f0024999",
   "metadata": {},
   "outputs": [
    {
     "data": {
      "text/html": [
       "<div>\n",
       "<style scoped>\n",
       "    .dataframe tbody tr th:only-of-type {\n",
       "        vertical-align: middle;\n",
       "    }\n",
       "\n",
       "    .dataframe tbody tr th {\n",
       "        vertical-align: top;\n",
       "    }\n",
       "\n",
       "    .dataframe thead th {\n",
       "        text-align: right;\n",
       "    }\n",
       "</style>\n",
       "<table border=\"1\" class=\"dataframe\">\n",
       "  <thead>\n",
       "    <tr style=\"text-align: right;\">\n",
       "      <th></th>\n",
       "      <th>film_id</th>\n",
       "      <th>release_year</th>\n",
       "      <th>language</th>\n",
       "      <th>rental_duration</th>\n",
       "      <th>rental_rate</th>\n",
       "      <th>length</th>\n",
       "      <th>rating</th>\n",
       "      <th>special_features</th>\n",
       "      <th>category</th>\n",
       "    </tr>\n",
       "  </thead>\n",
       "  <tbody>\n",
       "    <tr>\n",
       "      <th>0</th>\n",
       "      <td>19</td>\n",
       "      <td>2006</td>\n",
       "      <td>English</td>\n",
       "      <td>6</td>\n",
       "      <td>0.99</td>\n",
       "      <td>113</td>\n",
       "      <td>PG</td>\n",
       "      <td>Commentaries,Deleted Scenes,Behind the Scenes</td>\n",
       "      <td>Action</td>\n",
       "    </tr>\n",
       "    <tr>\n",
       "      <th>1</th>\n",
       "      <td>21</td>\n",
       "      <td>2006</td>\n",
       "      <td>English</td>\n",
       "      <td>3</td>\n",
       "      <td>4.99</td>\n",
       "      <td>129</td>\n",
       "      <td>R</td>\n",
       "      <td>Commentaries,Behind the Scenes</td>\n",
       "      <td>Action</td>\n",
       "    </tr>\n",
       "    <tr>\n",
       "      <th>2</th>\n",
       "      <td>29</td>\n",
       "      <td>2006</td>\n",
       "      <td>English</td>\n",
       "      <td>5</td>\n",
       "      <td>2.99</td>\n",
       "      <td>168</td>\n",
       "      <td>NC-17</td>\n",
       "      <td>Trailers,Commentaries,Deleted Scenes</td>\n",
       "      <td>Action</td>\n",
       "    </tr>\n",
       "    <tr>\n",
       "      <th>3</th>\n",
       "      <td>38</td>\n",
       "      <td>2006</td>\n",
       "      <td>English</td>\n",
       "      <td>6</td>\n",
       "      <td>0.99</td>\n",
       "      <td>68</td>\n",
       "      <td>NC-17</td>\n",
       "      <td>Trailers,Commentaries,Deleted Scenes,Behind th...</td>\n",
       "      <td>Action</td>\n",
       "    </tr>\n",
       "    <tr>\n",
       "      <th>4</th>\n",
       "      <td>56</td>\n",
       "      <td>2006</td>\n",
       "      <td>English</td>\n",
       "      <td>6</td>\n",
       "      <td>2.99</td>\n",
       "      <td>129</td>\n",
       "      <td>G</td>\n",
       "      <td>Trailers,Commentaries</td>\n",
       "      <td>Action</td>\n",
       "    </tr>\n",
       "    <tr>\n",
       "      <th>...</th>\n",
       "      <td>...</td>\n",
       "      <td>...</td>\n",
       "      <td>...</td>\n",
       "      <td>...</td>\n",
       "      <td>...</td>\n",
       "      <td>...</td>\n",
       "      <td>...</td>\n",
       "      <td>...</td>\n",
       "      <td>...</td>\n",
       "    </tr>\n",
       "    <tr>\n",
       "      <th>995</th>\n",
       "      <td>931</td>\n",
       "      <td>2006</td>\n",
       "      <td>English</td>\n",
       "      <td>7</td>\n",
       "      <td>0.99</td>\n",
       "      <td>48</td>\n",
       "      <td>PG-13</td>\n",
       "      <td>Trailers,Behind the Scenes</td>\n",
       "      <td>Travel</td>\n",
       "    </tr>\n",
       "    <tr>\n",
       "      <th>996</th>\n",
       "      <td>977</td>\n",
       "      <td>2006</td>\n",
       "      <td>English</td>\n",
       "      <td>3</td>\n",
       "      <td>2.99</td>\n",
       "      <td>85</td>\n",
       "      <td>R</td>\n",
       "      <td>Deleted Scenes,Behind the Scenes</td>\n",
       "      <td>Travel</td>\n",
       "    </tr>\n",
       "    <tr>\n",
       "      <th>997</th>\n",
       "      <td>981</td>\n",
       "      <td>2006</td>\n",
       "      <td>English</td>\n",
       "      <td>7</td>\n",
       "      <td>0.99</td>\n",
       "      <td>55</td>\n",
       "      <td>NC-17</td>\n",
       "      <td>Behind the Scenes</td>\n",
       "      <td>Travel</td>\n",
       "    </tr>\n",
       "    <tr>\n",
       "      <th>998</th>\n",
       "      <td>988</td>\n",
       "      <td>2006</td>\n",
       "      <td>English</td>\n",
       "      <td>7</td>\n",
       "      <td>2.99</td>\n",
       "      <td>139</td>\n",
       "      <td>R</td>\n",
       "      <td>Trailers,Commentaries,Behind the Scenes</td>\n",
       "      <td>Travel</td>\n",
       "    </tr>\n",
       "    <tr>\n",
       "      <th>999</th>\n",
       "      <td>989</td>\n",
       "      <td>2006</td>\n",
       "      <td>English</td>\n",
       "      <td>4</td>\n",
       "      <td>4.99</td>\n",
       "      <td>74</td>\n",
       "      <td>R</td>\n",
       "      <td>Commentaries,Deleted Scenes</td>\n",
       "      <td>Travel</td>\n",
       "    </tr>\n",
       "  </tbody>\n",
       "</table>\n",
       "<p>1000 rows × 9 columns</p>\n",
       "</div>"
      ],
      "text/plain": [
       "     film_id  release_year language  rental_duration  rental_rate  length  \\\n",
       "0         19          2006  English                6         0.99     113   \n",
       "1         21          2006  English                3         4.99     129   \n",
       "2         29          2006  English                5         2.99     168   \n",
       "3         38          2006  English                6         0.99      68   \n",
       "4         56          2006  English                6         2.99     129   \n",
       "..       ...           ...      ...              ...          ...     ...   \n",
       "995      931          2006  English                7         0.99      48   \n",
       "996      977          2006  English                3         2.99      85   \n",
       "997      981          2006  English                7         0.99      55   \n",
       "998      988          2006  English                7         2.99     139   \n",
       "999      989          2006  English                4         4.99      74   \n",
       "\n",
       "    rating                                   special_features category  \n",
       "0       PG      Commentaries,Deleted Scenes,Behind the Scenes   Action  \n",
       "1        R                     Commentaries,Behind the Scenes   Action  \n",
       "2    NC-17               Trailers,Commentaries,Deleted Scenes   Action  \n",
       "3    NC-17  Trailers,Commentaries,Deleted Scenes,Behind th...   Action  \n",
       "4        G                              Trailers,Commentaries   Action  \n",
       "..     ...                                                ...      ...  \n",
       "995  PG-13                         Trailers,Behind the Scenes   Travel  \n",
       "996      R                   Deleted Scenes,Behind the Scenes   Travel  \n",
       "997  NC-17                                  Behind the Scenes   Travel  \n",
       "998      R            Trailers,Commentaries,Behind the Scenes   Travel  \n",
       "999      R                        Commentaries,Deleted Scenes   Travel  \n",
       "\n",
       "[1000 rows x 9 columns]"
      ]
     },
     "execution_count": 6,
     "metadata": {},
     "output_type": "execute_result"
    }
   ],
   "source": [
    "query1 = '''select film_id, title, release_year, l.name as language, rental_duration, rental_rate, length, rating, \n",
    "special_features, c.name as category\n",
    "from film \n",
    "join language l using(language_id)\n",
    "join film_category fc using(film_id)\n",
    "join category c using(category_id)\n",
    "    ;\n",
    ";\n",
    "'''\n",
    "pd.read_sql_query(query1, engine)\n"
   ]
  },
  {
   "cell_type": "markdown",
   "id": "9fa69c0e",
   "metadata": {},
   "source": [
    "2.Create a query to get the list of films and a boolean indicating if it was rented last month (August 2005). This would be our target variable."
   ]
  },
  {
   "cell_type": "code",
   "execution_count": 7,
   "id": "b454c155",
   "metadata": {},
   "outputs": [
    {
     "data": {
      "text/html": [
       "<div>\n",
       "<style scoped>\n",
       "    .dataframe tbody tr th:only-of-type {\n",
       "        vertical-align: middle;\n",
       "    }\n",
       "\n",
       "    .dataframe tbody tr th {\n",
       "        vertical-align: top;\n",
       "    }\n",
       "\n",
       "    .dataframe thead th {\n",
       "        text-align: right;\n",
       "    }\n",
       "</style>\n",
       "<table border=\"1\" class=\"dataframe\">\n",
       "  <thead>\n",
       "    <tr style=\"text-align: right;\">\n",
       "      <th></th>\n",
       "      <th>film_id</th>\n",
       "      <th>rented</th>\n",
       "      <th>frequency</th>\n",
       "    </tr>\n",
       "  </thead>\n",
       "  <tbody>\n",
       "    <tr>\n",
       "      <th>0</th>\n",
       "      <td>80</td>\n",
       "      <td>1</td>\n",
       "      <td>12</td>\n",
       "    </tr>\n",
       "    <tr>\n",
       "      <th>1</th>\n",
       "      <td>333</td>\n",
       "      <td>1</td>\n",
       "      <td>17</td>\n",
       "    </tr>\n",
       "    <tr>\n",
       "      <th>2</th>\n",
       "      <td>373</td>\n",
       "      <td>1</td>\n",
       "      <td>16</td>\n",
       "    </tr>\n",
       "    <tr>\n",
       "      <th>3</th>\n",
       "      <td>535</td>\n",
       "      <td>1</td>\n",
       "      <td>20</td>\n",
       "    </tr>\n",
       "    <tr>\n",
       "      <th>4</th>\n",
       "      <td>450</td>\n",
       "      <td>1</td>\n",
       "      <td>30</td>\n",
       "    </tr>\n",
       "    <tr>\n",
       "      <th>...</th>\n",
       "      <td>...</td>\n",
       "      <td>...</td>\n",
       "      <td>...</td>\n",
       "    </tr>\n",
       "    <tr>\n",
       "      <th>953</th>\n",
       "      <td>485</td>\n",
       "      <td>1</td>\n",
       "      <td>6</td>\n",
       "    </tr>\n",
       "    <tr>\n",
       "      <th>954</th>\n",
       "      <td>939</td>\n",
       "      <td>1</td>\n",
       "      <td>8</td>\n",
       "    </tr>\n",
       "    <tr>\n",
       "      <th>955</th>\n",
       "      <td>904</td>\n",
       "      <td>1</td>\n",
       "      <td>4</td>\n",
       "    </tr>\n",
       "    <tr>\n",
       "      <th>956</th>\n",
       "      <td>400</td>\n",
       "      <td>1</td>\n",
       "      <td>4</td>\n",
       "    </tr>\n",
       "    <tr>\n",
       "      <th>957</th>\n",
       "      <td>884</td>\n",
       "      <td>1</td>\n",
       "      <td>6</td>\n",
       "    </tr>\n",
       "  </tbody>\n",
       "</table>\n",
       "<p>958 rows × 3 columns</p>\n",
       "</div>"
      ],
      "text/plain": [
       "     film_id  rented  frequency\n",
       "0         80       1         12\n",
       "1        333       1         17\n",
       "2        373       1         16\n",
       "3        535       1         20\n",
       "4        450       1         30\n",
       "..       ...     ...        ...\n",
       "953      485       1          6\n",
       "954      939       1          8\n",
       "955      904       1          4\n",
       "956      400       1          4\n",
       "957      884       1          6\n",
       "\n",
       "[958 rows x 3 columns]"
      ]
     },
     "execution_count": 7,
     "metadata": {},
     "output_type": "execute_result"
    }
   ],
   "source": [
    "query = '''select film_id, max(august_rental) as rented, count(august_rental) as frequency\n",
    "from inventory\n",
    "right join(\n",
    "\tselect inventory_id, (rental_date between '2005-08-01' and '2005-09-01') as august_rental\n",
    "\tfrom rental) t1\n",
    "using(inventory_id)\n",
    "group by film_id\n",
    "'''\n",
    "pd.read_sql_query(query, engine)"
   ]
  },
  {
   "cell_type": "code",
   "execution_count": 4,
   "id": "19c793bd",
   "metadata": {},
   "outputs": [],
   "source": [
    "query = '''select film_id, release_year, l.name as language, rental_duration, rental_rate, length, \n",
    "rating, special_features, c.name as category, august_rental, past_rentals\n",
    "from film\n",
    "left join inventory using(film_id)\n",
    "left join language l using(language_id)\n",
    "left join film_category using(film_id)\n",
    "left join category c using(category_id)\n",
    "left join\n",
    "(select film_id, past_rentals, august_rental\n",
    "from\n",
    "(select film_id, count(rental_history) as past_rentals\n",
    "from inventory\n",
    "\tjoin (\n",
    "\t\t\tselect inventory_id, rental_date as rental_history\n",
    "\t\t\tfrom rental\n",
    "\t\t\thaving rental_date < '2005-08-01') t1\n",
    "\t\tusing(inventory_id)\n",
    "\t\tgroup by film_id) t2\n",
    "\tjoin \n",
    "\t\t(select film_id, max(rented) as august_rental\n",
    "\t\tfrom inventory\n",
    "\t\tjoin (\n",
    "\t\t\tselect inventory_id, (rental_date between '2005-08-01' and '2005-09-01') as rented\n",
    "\t\t\tfrom rental) t3\n",
    "\t\tusing(inventory_id)\n",
    "\t\tgroup by film_id) t4\n",
    "\tusing(film_id)\n",
    "\tgroup by film_id) t5\n",
    "using(film_id)\n",
    "group by film_id, category    \n",
    ";\n",
    "'''"
   ]
  },
  {
   "cell_type": "markdown",
   "id": "b7ca1254",
   "metadata": {},
   "source": [
    "3.Read the data into a Pandas dataframe."
   ]
  },
  {
   "cell_type": "code",
   "execution_count": 5,
   "id": "9beeb4ed",
   "metadata": {},
   "outputs": [
    {
     "data": {
      "text/html": [
       "<div>\n",
       "<style scoped>\n",
       "    .dataframe tbody tr th:only-of-type {\n",
       "        vertical-align: middle;\n",
       "    }\n",
       "\n",
       "    .dataframe tbody tr th {\n",
       "        vertical-align: top;\n",
       "    }\n",
       "\n",
       "    .dataframe thead th {\n",
       "        text-align: right;\n",
       "    }\n",
       "</style>\n",
       "<table border=\"1\" class=\"dataframe\">\n",
       "  <thead>\n",
       "    <tr style=\"text-align: right;\">\n",
       "      <th></th>\n",
       "      <th>film_id</th>\n",
       "      <th>release_year</th>\n",
       "      <th>language</th>\n",
       "      <th>rental_duration</th>\n",
       "      <th>rental_rate</th>\n",
       "      <th>length</th>\n",
       "      <th>rating</th>\n",
       "      <th>special_features</th>\n",
       "      <th>category</th>\n",
       "      <th>august_rental</th>\n",
       "      <th>past_rentals</th>\n",
       "    </tr>\n",
       "  </thead>\n",
       "  <tbody>\n",
       "    <tr>\n",
       "      <th>0</th>\n",
       "      <td>1</td>\n",
       "      <td>2006</td>\n",
       "      <td>English</td>\n",
       "      <td>6</td>\n",
       "      <td>0.99</td>\n",
       "      <td>86</td>\n",
       "      <td>PG</td>\n",
       "      <td>Deleted Scenes,Behind the Scenes</td>\n",
       "      <td>Documentary</td>\n",
       "      <td>1.0</td>\n",
       "      <td>14.0</td>\n",
       "    </tr>\n",
       "    <tr>\n",
       "      <th>1</th>\n",
       "      <td>2</td>\n",
       "      <td>2006</td>\n",
       "      <td>English</td>\n",
       "      <td>3</td>\n",
       "      <td>4.99</td>\n",
       "      <td>48</td>\n",
       "      <td>G</td>\n",
       "      <td>Trailers,Deleted Scenes</td>\n",
       "      <td>Horror</td>\n",
       "      <td>1.0</td>\n",
       "      <td>2.0</td>\n",
       "    </tr>\n",
       "    <tr>\n",
       "      <th>2</th>\n",
       "      <td>3</td>\n",
       "      <td>2006</td>\n",
       "      <td>English</td>\n",
       "      <td>7</td>\n",
       "      <td>2.99</td>\n",
       "      <td>50</td>\n",
       "      <td>NC-17</td>\n",
       "      <td>Trailers,Deleted Scenes</td>\n",
       "      <td>Documentary</td>\n",
       "      <td>1.0</td>\n",
       "      <td>6.0</td>\n",
       "    </tr>\n",
       "    <tr>\n",
       "      <th>3</th>\n",
       "      <td>4</td>\n",
       "      <td>2006</td>\n",
       "      <td>English</td>\n",
       "      <td>5</td>\n",
       "      <td>2.99</td>\n",
       "      <td>117</td>\n",
       "      <td>G</td>\n",
       "      <td>Commentaries,Behind the Scenes</td>\n",
       "      <td>Horror</td>\n",
       "      <td>1.0</td>\n",
       "      <td>16.0</td>\n",
       "    </tr>\n",
       "    <tr>\n",
       "      <th>4</th>\n",
       "      <td>5</td>\n",
       "      <td>2006</td>\n",
       "      <td>English</td>\n",
       "      <td>6</td>\n",
       "      <td>2.99</td>\n",
       "      <td>130</td>\n",
       "      <td>G</td>\n",
       "      <td>Deleted Scenes</td>\n",
       "      <td>Family</td>\n",
       "      <td>1.0</td>\n",
       "      <td>8.0</td>\n",
       "    </tr>\n",
       "    <tr>\n",
       "      <th>...</th>\n",
       "      <td>...</td>\n",
       "      <td>...</td>\n",
       "      <td>...</td>\n",
       "      <td>...</td>\n",
       "      <td>...</td>\n",
       "      <td>...</td>\n",
       "      <td>...</td>\n",
       "      <td>...</td>\n",
       "      <td>...</td>\n",
       "      <td>...</td>\n",
       "      <td>...</td>\n",
       "    </tr>\n",
       "    <tr>\n",
       "      <th>995</th>\n",
       "      <td>996</td>\n",
       "      <td>2006</td>\n",
       "      <td>English</td>\n",
       "      <td>6</td>\n",
       "      <td>0.99</td>\n",
       "      <td>183</td>\n",
       "      <td>G</td>\n",
       "      <td>Trailers,Behind the Scenes</td>\n",
       "      <td>Documentary</td>\n",
       "      <td>1.0</td>\n",
       "      <td>4.0</td>\n",
       "    </tr>\n",
       "    <tr>\n",
       "      <th>996</th>\n",
       "      <td>997</td>\n",
       "      <td>2006</td>\n",
       "      <td>English</td>\n",
       "      <td>4</td>\n",
       "      <td>0.99</td>\n",
       "      <td>179</td>\n",
       "      <td>NC-17</td>\n",
       "      <td>Trailers,Behind the Scenes</td>\n",
       "      <td>Music</td>\n",
       "      <td>1.0</td>\n",
       "      <td>3.0</td>\n",
       "    </tr>\n",
       "    <tr>\n",
       "      <th>997</th>\n",
       "      <td>998</td>\n",
       "      <td>2006</td>\n",
       "      <td>English</td>\n",
       "      <td>6</td>\n",
       "      <td>0.99</td>\n",
       "      <td>105</td>\n",
       "      <td>NC-17</td>\n",
       "      <td>Deleted Scenes</td>\n",
       "      <td>Horror</td>\n",
       "      <td>1.0</td>\n",
       "      <td>6.0</td>\n",
       "    </tr>\n",
       "    <tr>\n",
       "      <th>998</th>\n",
       "      <td>999</td>\n",
       "      <td>2006</td>\n",
       "      <td>English</td>\n",
       "      <td>5</td>\n",
       "      <td>2.99</td>\n",
       "      <td>101</td>\n",
       "      <td>R</td>\n",
       "      <td>Trailers,Deleted Scenes</td>\n",
       "      <td>Children</td>\n",
       "      <td>1.0</td>\n",
       "      <td>10.0</td>\n",
       "    </tr>\n",
       "    <tr>\n",
       "      <th>999</th>\n",
       "      <td>1000</td>\n",
       "      <td>2006</td>\n",
       "      <td>English</td>\n",
       "      <td>3</td>\n",
       "      <td>4.99</td>\n",
       "      <td>50</td>\n",
       "      <td>NC-17</td>\n",
       "      <td>Trailers,Commentaries,Behind the Scenes</td>\n",
       "      <td>Comedy</td>\n",
       "      <td>1.0</td>\n",
       "      <td>20.0</td>\n",
       "    </tr>\n",
       "  </tbody>\n",
       "</table>\n",
       "<p>1000 rows × 11 columns</p>\n",
       "</div>"
      ],
      "text/plain": [
       "     film_id  release_year language  rental_duration  rental_rate  length  \\\n",
       "0          1          2006  English                6         0.99      86   \n",
       "1          2          2006  English                3         4.99      48   \n",
       "2          3          2006  English                7         2.99      50   \n",
       "3          4          2006  English                5         2.99     117   \n",
       "4          5          2006  English                6         2.99     130   \n",
       "..       ...           ...      ...              ...          ...     ...   \n",
       "995      996          2006  English                6         0.99     183   \n",
       "996      997          2006  English                4         0.99     179   \n",
       "997      998          2006  English                6         0.99     105   \n",
       "998      999          2006  English                5         2.99     101   \n",
       "999     1000          2006  English                3         4.99      50   \n",
       "\n",
       "    rating                         special_features     category  \\\n",
       "0       PG         Deleted Scenes,Behind the Scenes  Documentary   \n",
       "1        G                  Trailers,Deleted Scenes       Horror   \n",
       "2    NC-17                  Trailers,Deleted Scenes  Documentary   \n",
       "3        G           Commentaries,Behind the Scenes       Horror   \n",
       "4        G                           Deleted Scenes       Family   \n",
       "..     ...                                      ...          ...   \n",
       "995      G               Trailers,Behind the Scenes  Documentary   \n",
       "996  NC-17               Trailers,Behind the Scenes        Music   \n",
       "997  NC-17                           Deleted Scenes       Horror   \n",
       "998      R                  Trailers,Deleted Scenes     Children   \n",
       "999  NC-17  Trailers,Commentaries,Behind the Scenes       Comedy   \n",
       "\n",
       "     august_rental  past_rentals  \n",
       "0              1.0          14.0  \n",
       "1              1.0           2.0  \n",
       "2              1.0           6.0  \n",
       "3              1.0          16.0  \n",
       "4              1.0           8.0  \n",
       "..             ...           ...  \n",
       "995            1.0           4.0  \n",
       "996            1.0           3.0  \n",
       "997            1.0           6.0  \n",
       "998            1.0          10.0  \n",
       "999            1.0          20.0  \n",
       "\n",
       "[1000 rows x 11 columns]"
      ]
     },
     "execution_count": 5,
     "metadata": {},
     "output_type": "execute_result"
    }
   ],
   "source": [
    "data = pd.read_sql_query(query, engine)\n",
    "data"
   ]
  },
  {
   "cell_type": "markdown",
   "id": "20de544b",
   "metadata": {},
   "source": [
    "4.Analyze extracted features and transform them. You may need to encode some categorical variables, or scale numerical variables."
   ]
  },
  {
   "cell_type": "code",
   "execution_count": 61,
   "id": "a5934007",
   "metadata": {},
   "outputs": [
    {
     "data": {
      "text/plain": [
       "Trailers,Commentaries,Behind the Scenes                   1311\n",
       "Trailers                                                  1140\n",
       "Trailers,Commentaries                                     1134\n",
       "Trailers,Behind the Scenes                                1127\n",
       "Behind the Scenes                                         1110\n",
       "Commentaries,Deleted Scenes,Behind the Scenes             1102\n",
       "Commentaries                                              1090\n",
       "Commentaries,Behind the Scenes                            1078\n",
       "Trailers,Deleted Scenes                                   1048\n",
       "Deleted Scenes,Behind the Scenes                          1039\n",
       "Deleted Scenes                                            1027\n",
       "Commentaries,Deleted Scenes                               1014\n",
       "Trailers,Commentaries,Deleted Scenes,Behind the Scenes     989\n",
       "Trailers,Commentaries,Deleted Scenes                       920\n",
       "Trailers,Deleted Scenes,Behind the Scenes                  775\n",
       "Name: special_features, dtype: int64"
      ]
     },
     "execution_count": 61,
     "metadata": {},
     "output_type": "execute_result"
    }
   ],
   "source": [
    "#data.category.value_counts()\n",
    "#data.rating.value_counts()\n",
    "#data.release_year.value_counts()  #all are 2006, drop column\n",
    "#data.length.value_counts()\n",
    "#data.language.value_counts()    #all are English, drop column\n",
    "#data.rental_rate.value_counts()     #change to categorical\n",
    "#data.rental_duration.value_counts()   #change to categorical\n",
    "data.special_features.value_counts()   #split special features?"
   ]
  },
  {
   "cell_type": "code",
   "execution_count": 6,
   "id": "40be5c3e",
   "metadata": {},
   "outputs": [
    {
     "data": {
      "text/plain": [
       "film_id              0\n",
       "release_year         0\n",
       "language             0\n",
       "rental_duration      0\n",
       "rental_rate          0\n",
       "length               0\n",
       "rating               0\n",
       "special_features     0\n",
       "category             0\n",
       "august_rental       42\n",
       "past_rentals        42\n",
       "dtype: int64"
      ]
     },
     "execution_count": 6,
     "metadata": {},
     "output_type": "execute_result"
    }
   ],
   "source": [
    "data.isnull().sum()"
   ]
  },
  {
   "cell_type": "code",
   "execution_count": 10,
   "id": "3b2be823",
   "metadata": {},
   "outputs": [],
   "source": [
    "#for all NaN values in august_rental and past_rental column(for films in inventory with no rental history) \n",
    "#I am filling with 0 as they were also not rented in August 2005\n",
    "data.august_rental = data.august_rental.fillna(0)\n",
    "data.past_rentals = data.past_rentals.fillna(0)"
   ]
  },
  {
   "cell_type": "code",
   "execution_count": 11,
   "id": "4971c9dc",
   "metadata": {},
   "outputs": [],
   "source": [
    "data.drop(['film_id'], axis=1, inplace=True) "
   ]
  },
  {
   "cell_type": "code",
   "execution_count": 12,
   "id": "9f88fb69",
   "metadata": {},
   "outputs": [],
   "source": [
    "#dropping release_year and language columns as all values are the same\n",
    "data.drop(['release_year', 'language'], axis=1, inplace=True) "
   ]
  },
  {
   "cell_type": "code",
   "execution_count": 13,
   "id": "44a517f9",
   "metadata": {},
   "outputs": [],
   "source": [
    "#changing rental_rate and rental_duration to a categorical value\n",
    "data['rental_rate'] = data['rental_rate'].astype('object')\n",
    "data['rental_duration'] = data['rental_duration'].astype('object')"
   ]
  },
  {
   "cell_type": "code",
   "execution_count": 14,
   "id": "17f14656",
   "metadata": {},
   "outputs": [],
   "source": [
    "#splitting special_features into categories: trailer, commentaries, behind the scenes, deleted scenes\n",
    "\n",
    "def make_trailer(x):\n",
    "    if 'Trailers' in x.split(','):\n",
    "        return 1\n",
    "\n",
    "def make_commentaries(x):\n",
    "    if 'Commentaries' in x.split(','):\n",
    "        return 1\n",
    "    \n",
    "def make_behindts(x):\n",
    "    if 'Behind the Scenes' in x.split(','):\n",
    "        return 1\n",
    "\n",
    "def make_deletedscenes(x):\n",
    "    if 'Deleted Scenes' in x.split(','):\n",
    "        return 1"
   ]
  },
  {
   "cell_type": "code",
   "execution_count": 15,
   "id": "6fe6f9e4",
   "metadata": {},
   "outputs": [],
   "source": [
    "data['trailers'] = list(map(make_trailer, data.special_features))\n",
    "data['commentaries'] = list(map(make_commentaries, data.special_features))\n",
    "data['behind_the_scenes'] = list(map(make_behindts, data.special_features))\n",
    "data['deleted_scenes'] = list(map(make_deletedscenes, data.special_features))\n",
    "\n",
    "data['trailers'] = data['trailers'].fillna(0)\n",
    "data['commentaries'] = data['commentaries'].fillna(0)\n",
    "data['behind_the_scenes'] = data['behind_the_scenes'].fillna(0)\n",
    "data['deleted_scenes'] = data['deleted_scenes'].fillna(0)"
   ]
  },
  {
   "cell_type": "code",
   "execution_count": 16,
   "id": "6326c2b2",
   "metadata": {},
   "outputs": [],
   "source": [
    "data.drop(['special_features'], axis=1, inplace=True)"
   ]
  },
  {
   "cell_type": "code",
   "execution_count": 17,
   "id": "a0a8f088",
   "metadata": {},
   "outputs": [
    {
     "data": {
      "text/html": [
       "<div>\n",
       "<style scoped>\n",
       "    .dataframe tbody tr th:only-of-type {\n",
       "        vertical-align: middle;\n",
       "    }\n",
       "\n",
       "    .dataframe tbody tr th {\n",
       "        vertical-align: top;\n",
       "    }\n",
       "\n",
       "    .dataframe thead th {\n",
       "        text-align: right;\n",
       "    }\n",
       "</style>\n",
       "<table border=\"1\" class=\"dataframe\">\n",
       "  <thead>\n",
       "    <tr style=\"text-align: right;\">\n",
       "      <th></th>\n",
       "      <th>rental_duration</th>\n",
       "      <th>rental_rate</th>\n",
       "      <th>length</th>\n",
       "      <th>rating</th>\n",
       "      <th>category</th>\n",
       "      <th>august_rental</th>\n",
       "      <th>past_rentals</th>\n",
       "      <th>trailers</th>\n",
       "      <th>commentaries</th>\n",
       "      <th>behind_the_scenes</th>\n",
       "      <th>deleted_scenes</th>\n",
       "    </tr>\n",
       "  </thead>\n",
       "  <tbody>\n",
       "    <tr>\n",
       "      <th>0</th>\n",
       "      <td>6</td>\n",
       "      <td>0.99</td>\n",
       "      <td>86</td>\n",
       "      <td>PG</td>\n",
       "      <td>Documentary</td>\n",
       "      <td>1.0</td>\n",
       "      <td>14.0</td>\n",
       "      <td>0.0</td>\n",
       "      <td>0.0</td>\n",
       "      <td>1.0</td>\n",
       "      <td>1.0</td>\n",
       "    </tr>\n",
       "    <tr>\n",
       "      <th>1</th>\n",
       "      <td>3</td>\n",
       "      <td>4.99</td>\n",
       "      <td>48</td>\n",
       "      <td>G</td>\n",
       "      <td>Horror</td>\n",
       "      <td>1.0</td>\n",
       "      <td>2.0</td>\n",
       "      <td>1.0</td>\n",
       "      <td>0.0</td>\n",
       "      <td>0.0</td>\n",
       "      <td>1.0</td>\n",
       "    </tr>\n",
       "    <tr>\n",
       "      <th>2</th>\n",
       "      <td>7</td>\n",
       "      <td>2.99</td>\n",
       "      <td>50</td>\n",
       "      <td>NC-17</td>\n",
       "      <td>Documentary</td>\n",
       "      <td>1.0</td>\n",
       "      <td>6.0</td>\n",
       "      <td>1.0</td>\n",
       "      <td>0.0</td>\n",
       "      <td>0.0</td>\n",
       "      <td>1.0</td>\n",
       "    </tr>\n",
       "    <tr>\n",
       "      <th>3</th>\n",
       "      <td>5</td>\n",
       "      <td>2.99</td>\n",
       "      <td>117</td>\n",
       "      <td>G</td>\n",
       "      <td>Horror</td>\n",
       "      <td>1.0</td>\n",
       "      <td>16.0</td>\n",
       "      <td>0.0</td>\n",
       "      <td>1.0</td>\n",
       "      <td>1.0</td>\n",
       "      <td>0.0</td>\n",
       "    </tr>\n",
       "    <tr>\n",
       "      <th>4</th>\n",
       "      <td>6</td>\n",
       "      <td>2.99</td>\n",
       "      <td>130</td>\n",
       "      <td>G</td>\n",
       "      <td>Family</td>\n",
       "      <td>1.0</td>\n",
       "      <td>8.0</td>\n",
       "      <td>0.0</td>\n",
       "      <td>0.0</td>\n",
       "      <td>0.0</td>\n",
       "      <td>1.0</td>\n",
       "    </tr>\n",
       "  </tbody>\n",
       "</table>\n",
       "</div>"
      ],
      "text/plain": [
       "  rental_duration rental_rate  length rating     category  august_rental  \\\n",
       "0               6        0.99      86     PG  Documentary            1.0   \n",
       "1               3        4.99      48      G       Horror            1.0   \n",
       "2               7        2.99      50  NC-17  Documentary            1.0   \n",
       "3               5        2.99     117      G       Horror            1.0   \n",
       "4               6        2.99     130      G       Family            1.0   \n",
       "\n",
       "   past_rentals  trailers  commentaries  behind_the_scenes  deleted_scenes  \n",
       "0          14.0       0.0           0.0                1.0             1.0  \n",
       "1           2.0       1.0           0.0                0.0             1.0  \n",
       "2           6.0       1.0           0.0                0.0             1.0  \n",
       "3          16.0       0.0           1.0                1.0             0.0  \n",
       "4           8.0       0.0           0.0                0.0             1.0  "
      ]
     },
     "execution_count": 17,
     "metadata": {},
     "output_type": "execute_result"
    }
   ],
   "source": [
    "data.head()"
   ]
  },
  {
   "cell_type": "code",
   "execution_count": 18,
   "id": "1aef5423",
   "metadata": {},
   "outputs": [
    {
     "data": {
      "text/html": [
       "<div>\n",
       "<style scoped>\n",
       "    .dataframe tbody tr th:only-of-type {\n",
       "        vertical-align: middle;\n",
       "    }\n",
       "\n",
       "    .dataframe tbody tr th {\n",
       "        vertical-align: top;\n",
       "    }\n",
       "\n",
       "    .dataframe thead th {\n",
       "        text-align: right;\n",
       "    }\n",
       "</style>\n",
       "<table border=\"1\" class=\"dataframe\">\n",
       "  <thead>\n",
       "    <tr style=\"text-align: right;\">\n",
       "      <th></th>\n",
       "      <th>count</th>\n",
       "      <th>mean</th>\n",
       "      <th>std</th>\n",
       "      <th>min</th>\n",
       "      <th>25%</th>\n",
       "      <th>50%</th>\n",
       "      <th>75%</th>\n",
       "      <th>max</th>\n",
       "    </tr>\n",
       "  </thead>\n",
       "  <tbody>\n",
       "    <tr>\n",
       "      <th>length</th>\n",
       "      <td>1000.0</td>\n",
       "      <td>115.272</td>\n",
       "      <td>40.426332</td>\n",
       "      <td>46.0</td>\n",
       "      <td>80.0</td>\n",
       "      <td>114.0</td>\n",
       "      <td>149.25</td>\n",
       "      <td>185.0</td>\n",
       "    </tr>\n",
       "    <tr>\n",
       "      <th>august_rental</th>\n",
       "      <td>1000.0</td>\n",
       "      <td>0.958</td>\n",
       "      <td>0.200690</td>\n",
       "      <td>0.0</td>\n",
       "      <td>1.0</td>\n",
       "      <td>1.0</td>\n",
       "      <td>1.00</td>\n",
       "      <td>1.0</td>\n",
       "    </tr>\n",
       "    <tr>\n",
       "      <th>past_rentals</th>\n",
       "      <td>1000.0</td>\n",
       "      <td>10.176</td>\n",
       "      <td>5.057925</td>\n",
       "      <td>0.0</td>\n",
       "      <td>7.0</td>\n",
       "      <td>10.0</td>\n",
       "      <td>14.00</td>\n",
       "      <td>25.0</td>\n",
       "    </tr>\n",
       "    <tr>\n",
       "      <th>trailers</th>\n",
       "      <td>1000.0</td>\n",
       "      <td>0.535</td>\n",
       "      <td>0.499023</td>\n",
       "      <td>0.0</td>\n",
       "      <td>0.0</td>\n",
       "      <td>1.0</td>\n",
       "      <td>1.00</td>\n",
       "      <td>1.0</td>\n",
       "    </tr>\n",
       "    <tr>\n",
       "      <th>commentaries</th>\n",
       "      <td>1000.0</td>\n",
       "      <td>0.539</td>\n",
       "      <td>0.498726</td>\n",
       "      <td>0.0</td>\n",
       "      <td>0.0</td>\n",
       "      <td>1.0</td>\n",
       "      <td>1.00</td>\n",
       "      <td>1.0</td>\n",
       "    </tr>\n",
       "    <tr>\n",
       "      <th>behind_the_scenes</th>\n",
       "      <td>1000.0</td>\n",
       "      <td>0.538</td>\n",
       "      <td>0.498803</td>\n",
       "      <td>0.0</td>\n",
       "      <td>0.0</td>\n",
       "      <td>1.0</td>\n",
       "      <td>1.00</td>\n",
       "      <td>1.0</td>\n",
       "    </tr>\n",
       "    <tr>\n",
       "      <th>deleted_scenes</th>\n",
       "      <td>1000.0</td>\n",
       "      <td>0.503</td>\n",
       "      <td>0.500241</td>\n",
       "      <td>0.0</td>\n",
       "      <td>0.0</td>\n",
       "      <td>1.0</td>\n",
       "      <td>1.00</td>\n",
       "      <td>1.0</td>\n",
       "    </tr>\n",
       "  </tbody>\n",
       "</table>\n",
       "</div>"
      ],
      "text/plain": [
       "                    count     mean        std   min   25%    50%     75%  \\\n",
       "length             1000.0  115.272  40.426332  46.0  80.0  114.0  149.25   \n",
       "august_rental      1000.0    0.958   0.200690   0.0   1.0    1.0    1.00   \n",
       "past_rentals       1000.0   10.176   5.057925   0.0   7.0   10.0   14.00   \n",
       "trailers           1000.0    0.535   0.499023   0.0   0.0    1.0    1.00   \n",
       "commentaries       1000.0    0.539   0.498726   0.0   0.0    1.0    1.00   \n",
       "behind_the_scenes  1000.0    0.538   0.498803   0.0   0.0    1.0    1.00   \n",
       "deleted_scenes     1000.0    0.503   0.500241   0.0   0.0    1.0    1.00   \n",
       "\n",
       "                     max  \n",
       "length             185.0  \n",
       "august_rental        1.0  \n",
       "past_rentals        25.0  \n",
       "trailers             1.0  \n",
       "commentaries         1.0  \n",
       "behind_the_scenes    1.0  \n",
       "deleted_scenes       1.0  "
      ]
     },
     "execution_count": 18,
     "metadata": {},
     "output_type": "execute_result"
    }
   ],
   "source": [
    "data.describe().T"
   ]
  },
  {
   "cell_type": "code",
   "execution_count": 19,
   "id": "23d8e609",
   "metadata": {},
   "outputs": [
    {
     "data": {
      "text/plain": [
       "rental_duration       object\n",
       "rental_rate           object\n",
       "length                 int64\n",
       "rating                object\n",
       "category              object\n",
       "august_rental        float64\n",
       "past_rentals         float64\n",
       "trailers             float64\n",
       "commentaries         float64\n",
       "behind_the_scenes    float64\n",
       "deleted_scenes       float64\n",
       "dtype: object"
      ]
     },
     "execution_count": 19,
     "metadata": {},
     "output_type": "execute_result"
    }
   ],
   "source": [
    "data.dtypes"
   ]
  },
  {
   "cell_type": "code",
   "execution_count": 20,
   "id": "7d8c000b",
   "metadata": {},
   "outputs": [],
   "source": [
    "#x-y split\n",
    "y = data['august_rental']\n",
    "X = data.drop(['august_rental'], axis=1)"
   ]
  },
  {
   "cell_type": "code",
   "execution_count": 21,
   "id": "210f49bf",
   "metadata": {},
   "outputs": [],
   "source": [
    "# train test split \n",
    "from sklearn.model_selection import train_test_split\n",
    "X_train, X_test, y_train, y_test = train_test_split(X, y, test_size=0.2, random_state=42)"
   ]
  },
  {
   "cell_type": "code",
   "execution_count": 22,
   "id": "5d51e236",
   "metadata": {},
   "outputs": [],
   "source": [
    "#minmaxscale numerical columns\n",
    "import numpy as np\n",
    "from sklearn.preprocessing import MinMaxScaler\n",
    "\n",
    "numerical = X_train.select_dtypes(include = np.number)\n",
    "transformer = MinMaxScaler().fit(numerical)\n",
    "x_normalized = transformer.transform(numerical)\n",
    "num_transformed = pd.DataFrame(x_normalized, columns = numerical.columns)"
   ]
  },
  {
   "cell_type": "code",
   "execution_count": 49,
   "id": "2a87cf70",
   "metadata": {},
   "outputs": [],
   "source": [
    "#encode categories:  category, rating, rental_rate, rental_duration\n",
    "#get_dummies"
   ]
  },
  {
   "cell_type": "code",
   "execution_count": 23,
   "id": "a5b36e98",
   "metadata": {},
   "outputs": [
    {
     "data": {
      "text/html": [
       "<div>\n",
       "<style scoped>\n",
       "    .dataframe tbody tr th:only-of-type {\n",
       "        vertical-align: middle;\n",
       "    }\n",
       "\n",
       "    .dataframe tbody tr th {\n",
       "        vertical-align: top;\n",
       "    }\n",
       "\n",
       "    .dataframe thead th {\n",
       "        text-align: right;\n",
       "    }\n",
       "</style>\n",
       "<table border=\"1\" class=\"dataframe\">\n",
       "  <thead>\n",
       "    <tr style=\"text-align: right;\">\n",
       "      <th></th>\n",
       "      <th>category_Animation</th>\n",
       "      <th>category_Children</th>\n",
       "      <th>category_Classics</th>\n",
       "      <th>category_Comedy</th>\n",
       "      <th>category_Documentary</th>\n",
       "      <th>category_Drama</th>\n",
       "      <th>category_Family</th>\n",
       "      <th>category_Foreign</th>\n",
       "      <th>category_Games</th>\n",
       "      <th>category_Horror</th>\n",
       "      <th>...</th>\n",
       "      <th>rating_NC-17</th>\n",
       "      <th>rating_PG</th>\n",
       "      <th>rating_PG-13</th>\n",
       "      <th>rating_R</th>\n",
       "      <th>rental_rate_2.99</th>\n",
       "      <th>rental_rate_4.99</th>\n",
       "      <th>rental_duration_4</th>\n",
       "      <th>rental_duration_5</th>\n",
       "      <th>rental_duration_6</th>\n",
       "      <th>rental_duration_7</th>\n",
       "    </tr>\n",
       "  </thead>\n",
       "  <tbody>\n",
       "    <tr>\n",
       "      <th>29</th>\n",
       "      <td>0</td>\n",
       "      <td>0</td>\n",
       "      <td>0</td>\n",
       "      <td>0</td>\n",
       "      <td>0</td>\n",
       "      <td>0</td>\n",
       "      <td>0</td>\n",
       "      <td>0</td>\n",
       "      <td>0</td>\n",
       "      <td>1</td>\n",
       "      <td>...</td>\n",
       "      <td>0</td>\n",
       "      <td>0</td>\n",
       "      <td>0</td>\n",
       "      <td>1</td>\n",
       "      <td>1</td>\n",
       "      <td>0</td>\n",
       "      <td>1</td>\n",
       "      <td>0</td>\n",
       "      <td>0</td>\n",
       "      <td>0</td>\n",
       "    </tr>\n",
       "    <tr>\n",
       "      <th>535</th>\n",
       "      <td>0</td>\n",
       "      <td>0</td>\n",
       "      <td>1</td>\n",
       "      <td>0</td>\n",
       "      <td>0</td>\n",
       "      <td>0</td>\n",
       "      <td>0</td>\n",
       "      <td>0</td>\n",
       "      <td>0</td>\n",
       "      <td>0</td>\n",
       "      <td>...</td>\n",
       "      <td>0</td>\n",
       "      <td>1</td>\n",
       "      <td>0</td>\n",
       "      <td>0</td>\n",
       "      <td>1</td>\n",
       "      <td>0</td>\n",
       "      <td>0</td>\n",
       "      <td>0</td>\n",
       "      <td>0</td>\n",
       "      <td>0</td>\n",
       "    </tr>\n",
       "    <tr>\n",
       "      <th>695</th>\n",
       "      <td>1</td>\n",
       "      <td>0</td>\n",
       "      <td>0</td>\n",
       "      <td>0</td>\n",
       "      <td>0</td>\n",
       "      <td>0</td>\n",
       "      <td>0</td>\n",
       "      <td>0</td>\n",
       "      <td>0</td>\n",
       "      <td>0</td>\n",
       "      <td>...</td>\n",
       "      <td>1</td>\n",
       "      <td>0</td>\n",
       "      <td>0</td>\n",
       "      <td>0</td>\n",
       "      <td>0</td>\n",
       "      <td>0</td>\n",
       "      <td>0</td>\n",
       "      <td>0</td>\n",
       "      <td>1</td>\n",
       "      <td>0</td>\n",
       "    </tr>\n",
       "    <tr>\n",
       "      <th>557</th>\n",
       "      <td>0</td>\n",
       "      <td>0</td>\n",
       "      <td>0</td>\n",
       "      <td>0</td>\n",
       "      <td>0</td>\n",
       "      <td>0</td>\n",
       "      <td>0</td>\n",
       "      <td>0</td>\n",
       "      <td>0</td>\n",
       "      <td>0</td>\n",
       "      <td>...</td>\n",
       "      <td>0</td>\n",
       "      <td>0</td>\n",
       "      <td>1</td>\n",
       "      <td>0</td>\n",
       "      <td>1</td>\n",
       "      <td>0</td>\n",
       "      <td>0</td>\n",
       "      <td>0</td>\n",
       "      <td>0</td>\n",
       "      <td>0</td>\n",
       "    </tr>\n",
       "    <tr>\n",
       "      <th>836</th>\n",
       "      <td>0</td>\n",
       "      <td>0</td>\n",
       "      <td>0</td>\n",
       "      <td>1</td>\n",
       "      <td>0</td>\n",
       "      <td>0</td>\n",
       "      <td>0</td>\n",
       "      <td>0</td>\n",
       "      <td>0</td>\n",
       "      <td>0</td>\n",
       "      <td>...</td>\n",
       "      <td>0</td>\n",
       "      <td>1</td>\n",
       "      <td>0</td>\n",
       "      <td>0</td>\n",
       "      <td>1</td>\n",
       "      <td>0</td>\n",
       "      <td>1</td>\n",
       "      <td>0</td>\n",
       "      <td>0</td>\n",
       "      <td>0</td>\n",
       "    </tr>\n",
       "  </tbody>\n",
       "</table>\n",
       "<p>5 rows × 25 columns</p>\n",
       "</div>"
      ],
      "text/plain": [
       "     category_Animation  category_Children  category_Classics  \\\n",
       "29                    0                  0                  0   \n",
       "535                   0                  0                  1   \n",
       "695                   1                  0                  0   \n",
       "557                   0                  0                  0   \n",
       "836                   0                  0                  0   \n",
       "\n",
       "     category_Comedy  category_Documentary  category_Drama  category_Family  \\\n",
       "29                 0                     0               0                0   \n",
       "535                0                     0               0                0   \n",
       "695                0                     0               0                0   \n",
       "557                0                     0               0                0   \n",
       "836                1                     0               0                0   \n",
       "\n",
       "     category_Foreign  category_Games  category_Horror  ...  rating_NC-17  \\\n",
       "29                  0               0                1  ...             0   \n",
       "535                 0               0                0  ...             0   \n",
       "695                 0               0                0  ...             1   \n",
       "557                 0               0                0  ...             0   \n",
       "836                 0               0                0  ...             0   \n",
       "\n",
       "     rating_PG  rating_PG-13  rating_R  rental_rate_2.99  rental_rate_4.99  \\\n",
       "29           0             0         1                 1                 0   \n",
       "535          1             0         0                 1                 0   \n",
       "695          0             0         0                 0                 0   \n",
       "557          0             1         0                 1                 0   \n",
       "836          1             0         0                 1                 0   \n",
       "\n",
       "     rental_duration_4  rental_duration_5  rental_duration_6  \\\n",
       "29                   1                  0                  0   \n",
       "535                  0                  0                  0   \n",
       "695                  0                  0                  1   \n",
       "557                  0                  0                  0   \n",
       "836                  1                  0                  0   \n",
       "\n",
       "     rental_duration_7  \n",
       "29                   0  \n",
       "535                  0  \n",
       "695                  0  \n",
       "557                  0  \n",
       "836                  0  \n",
       "\n",
       "[5 rows x 25 columns]"
      ]
     },
     "execution_count": 23,
     "metadata": {},
     "output_type": "execute_result"
    }
   ],
   "source": [
    "cat = X_train.select_dtypes(include = object)\n",
    "\n",
    "cat_encoded = pd.get_dummies(cat, \n",
    "                             columns=['category', 'rating', 'rental_rate', 'rental_duration'],\n",
    "                             drop_first=True)\n",
    "cat_encoded.head()"
   ]
  },
  {
   "cell_type": "code",
   "execution_count": 24,
   "id": "be8ced83",
   "metadata": {},
   "outputs": [],
   "source": [
    "Xtrain_transformed = np.concatenate((num_transformed, cat_encoded), axis=1)"
   ]
  },
  {
   "cell_type": "code",
   "execution_count": 25,
   "id": "3938f97a",
   "metadata": {},
   "outputs": [
    {
     "data": {
      "image/png": "[encoded data removed]",
      "text/plain": [
       "<Figure size 360x360 with 1 Axes>"
      ]
     },
     "metadata": {
      "needs_background": "light"
     },
     "output_type": "display_data"
    }
   ],
   "source": [
    "sns.displot(data['length'])\n",
    "plt.show()"
   ]
  },
  {
   "cell_type": "code",
   "execution_count": 26,
   "id": "478a0e0d",
   "metadata": {},
   "outputs": [
    {
     "data": {
      "image/png": "[encoded data removed]",
      "text/plain": [
       "<Figure size 360x360 with 1 Axes>"
      ]
     },
     "metadata": {
      "needs_background": "light"
     },
     "output_type": "display_data"
    }
   ],
   "source": [
    "sns.displot(data['past_rentals'])\n",
    "plt.show()"
   ]
  },
  {
   "cell_type": "markdown",
   "id": "cd78e06c",
   "metadata": {},
   "source": [
    "5.Create a logistic regression model to predict this variable from the cleaned data."
   ]
  },
  {
   "cell_type": "code",
   "execution_count": 27,
   "id": "08a8290d",
   "metadata": {},
   "outputs": [],
   "source": [
    "classification = LogisticRegression(random_state=0, solver='lbfgs',\n",
    "                  multi_class='multinomial').fit(Xtrain_transformed, y_train)"
   ]
  },
  {
   "cell_type": "code",
   "execution_count": null,
   "id": "53ecbf48",
   "metadata": {},
   "outputs": [],
   "source": [
    "#now transform X_test data "
   ]
  },
  {
   "cell_type": "code",
   "execution_count": 28,
   "id": "ea87cb81",
   "metadata": {},
   "outputs": [],
   "source": [
    "#scale numerical\n",
    "num_test = X_test.select_dtypes(include = np.number)\n",
    "\n",
    "xtest_normalized = transformer.transform(num_test)\n",
    "numtest_scaled= pd.DataFrame(xtest_normalized, columns = numerical.columns)"
   ]
  },
  {
   "cell_type": "code",
   "execution_count": 29,
   "id": "0949b9d5",
   "metadata": {},
   "outputs": [],
   "source": [
    "#encode categorical\n",
    "cat_test = X_test.select_dtypes(include = object)\n",
    "\n",
    "cattest_encoded = pd.get_dummies(cat_test, \n",
    "                             columns=['category', 'rating', 'rental_rate', 'rental_duration'],\n",
    "                             drop_first=True)"
   ]
  },
  {
   "cell_type": "code",
   "execution_count": 30,
   "id": "7c81d315",
   "metadata": {},
   "outputs": [],
   "source": [
    "Xtest_transformed = np.concatenate((numtest_scaled, cattest_encoded), axis=1)"
   ]
  },
  {
   "cell_type": "code",
   "execution_count": 31,
   "id": "f9340e16",
   "metadata": {},
   "outputs": [],
   "source": [
    "predictions = classification.predict(Xtest_transformed)"
   ]
  },
  {
   "cell_type": "code",
   "execution_count": 139,
   "id": "541ef264",
   "metadata": {},
   "outputs": [],
   "source": []
  },
  {
   "cell_type": "markdown",
   "id": "b843b233",
   "metadata": {},
   "source": [
    "6.Evaluate the results."
   ]
  },
  {
   "cell_type": "code",
   "execution_count": 32,
   "id": "e0e357d2",
   "metadata": {},
   "outputs": [
    {
     "data": {
      "text/plain": [
       "0.955"
      ]
     },
     "execution_count": 32,
     "metadata": {},
     "output_type": "execute_result"
    }
   ],
   "source": [
    "classification.score(Xtest_transformed, y_test)\n",
    "#score .955"
   ]
  },
  {
   "cell_type": "code",
   "execution_count": 33,
   "id": "9f8601e6",
   "metadata": {},
   "outputs": [
    {
     "name": "stdout",
     "output_type": "stream",
     "text": [
      "1.0    191\n",
      "0.0      9\n",
      "Name: august_rental, dtype: int64\n"
     ]
    }
   ],
   "source": [
    "print(y_test.value_counts())"
   ]
  },
  {
   "cell_type": "code",
   "execution_count": 34,
   "id": "13a098af",
   "metadata": {},
   "outputs": [
    {
     "data": {
      "text/plain": [
       "1.0    200\n",
       "dtype: int64"
      ]
     },
     "execution_count": 34,
     "metadata": {},
     "output_type": "execute_result"
    }
   ],
   "source": [
    "pd.Series(predictions).value_counts()"
   ]
  },
  {
   "cell_type": "code",
   "execution_count": 35,
   "id": "2486cc79",
   "metadata": {},
   "outputs": [
    {
     "data": {
      "text/plain": [
       "array([[  0,   9],\n",
       "       [  0, 191]])"
      ]
     },
     "execution_count": 35,
     "metadata": {},
     "output_type": "execute_result"
    }
   ],
   "source": [
    "from sklearn.metrics import confusion_matrix\n",
    "confusion_matrix(y_test, predictions)"
   ]
  },
  {
   "cell_type": "code",
   "execution_count": null,
   "id": "57844c2b",
   "metadata": {},
   "outputs": [],
   "source": [
    "#trying KNN instead of logistic regression"
   ]
  },
  {
   "cell_type": "code",
   "execution_count": 37,
   "id": "cdbe7e7d",
   "metadata": {
    "scrolled": true
   },
   "outputs": [
    {
     "data": {
      "text/plain": [
       "0.955"
      ]
     },
     "execution_count": 37,
     "metadata": {},
     "output_type": "execute_result"
    }
   ],
   "source": [
    "from sklearn import neighbors\n",
    "clf = neighbors.KNeighborsClassifier(n_neighbors=3, weights='uniform') \n",
    "clf.fit(Xtrain_transformed, y_train)                                       \n",
    "predictions_clf = clf.predict(Xtest_transformed)\n",
    "clf.score(Xtest_transformed, y_test)\n",
    "\n",
    "#score .955"
   ]
  },
  {
   "cell_type": "code",
   "execution_count": 38,
   "id": "b58df3e9",
   "metadata": {
    "scrolled": true
   },
   "outputs": [
    {
     "name": "stdout",
     "output_type": "stream",
     "text": [
      "1.0    191\n",
      "0.0      9\n",
      "Name: august_rental, dtype: int64\n"
     ]
    }
   ],
   "source": [
    "print(y_test.value_counts())"
   ]
  },
  {
   "cell_type": "code",
   "execution_count": 39,
   "id": "ecaf8d08",
   "metadata": {},
   "outputs": [
    {
     "data": {
      "text/plain": [
       "1.0    200\n",
       "dtype: int64"
      ]
     },
     "execution_count": 39,
     "metadata": {},
     "output_type": "execute_result"
    }
   ],
   "source": [
    "pd.Series(predictions_clf).value_counts()"
   ]
  },
  {
   "cell_type": "code",
   "execution_count": 40,
   "id": "a8e0c81c",
   "metadata": {},
   "outputs": [
    {
     "data": {
      "text/plain": [
       "array([[  0,   9],\n",
       "       [  0, 191]])"
      ]
     },
     "execution_count": 40,
     "metadata": {},
     "output_type": "execute_result"
    }
   ],
   "source": [
    "confusion_matrix(y_test, predictions_clf)"
   ]
  },
  {
   "cell_type": "code",
   "execution_count": 41,
   "id": "eb25162e",
   "metadata": {},
   "outputs": [],
   "source": [
    "#predicting all movies will be rented, not a great model..."
   ]
  },
  {
   "cell_type": "markdown",
   "id": "ee010bbc",
   "metadata": {},
   "source": [
    "There are 1000 movie titles in the inventory and 952 of those were rented during August 2005. The models are scoring high, but it is because the data is unbalanced. "
   ]
  }
 ],
 "metadata": {
  "kernelspec": {
   "display_name": "Python 3 (ipykernel)",
   "language": "python",
   "name": "python3"
  },
  "language_info": {
   "codemirror_mode": {
    "name": "ipython",
    "version": 3
   },
   "file_extension": ".py",
   "mimetype": "text/x-python",
   "name": "python",
   "nbconvert_exporter": "python",
   "pygments_lexer": "ipython3",
   "version": "3.9.6"
  }
 },
 "nbformat": 4,
 "nbformat_minor": 5
}
